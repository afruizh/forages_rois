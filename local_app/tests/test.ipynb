{
 "cells": [
  {
   "cell_type": "code",
   "execution_count": 1,
   "id": "10212f2e",
   "metadata": {},
   "outputs": [],
   "source": [
    "import os\n",
    "import subprocess"
   ]
  },
  {
   "cell_type": "code",
   "execution_count": 2,
   "id": "92c26209",
   "metadata": {},
   "outputs": [],
   "source": [
    "\n",
    "raster_path =r\"D:\\local_mydata\\rois\\sample\\annotation_0_clipped_RGB.tif\"\n",
    "output_path = r\"D:\\local_mydata\\rois\\samples_outputs\\00.shp\"\n",
    "\n",
    "\n",
    "cwd_path = r\"D:\\local_mydev_ciat\\project_roi\\plugins\\foragesrois\\ForagesROIs\"\n",
    "\n",
    "env = os.environ.copy()\n",
    "env[\"PATH\"] = cwd_path\n",
    "os.environ[\"PATH\"] = cwd_path"
   ]
  },
  {
   "cell_type": "code",
   "execution_count": 3,
   "id": "ec20242b",
   "metadata": {},
   "outputs": [
    {
     "name": "stdout",
     "output_type": "stream",
     "text": [
      "Running: ForagesROIs.exe --cli --input D:\\local_mydata\\rois\\sample\\annotation_0_clipped_RGB.tif --output D:\\local_mydata\\rois\\samples_outputs\\00.shp\n"
     ]
    }
   ],
   "source": [
    "cmd = ['ForagesROIs.exe', '--cli', '--input', os.path.normpath(raster_path), '--output', os.path.normpath(output_path)]\n",
    "print(f'Running: {\" \".join(cmd)}')\n",
    "result = subprocess.run(cmd, capture_output=True, text=True, cwd=cwd_path, env=env)"
   ]
  }
 ],
 "metadata": {
  "kernelspec": {
   "display_name": "base",
   "language": "python",
   "name": "python3"
  },
  "language_info": {
   "codemirror_mode": {
    "name": "ipython",
    "version": 3
   },
   "file_extension": ".py",
   "mimetype": "text/x-python",
   "name": "python",
   "nbconvert_exporter": "python",
   "pygments_lexer": "ipython3",
   "version": "3.12.3"
  }
 },
 "nbformat": 4,
 "nbformat_minor": 5
}
